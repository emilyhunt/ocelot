{
 "cells": [
  {
   "cell_type": "markdown",
   "metadata": {},
   "source": [
    "# Binary star models\n",
    "\n",
    "ocelot includes a number of models, one of which is a binary star model. Let's look at what it contains, as an example!"
   ]
  },
  {
   "cell_type": "code",
   "execution_count": 1,
   "metadata": {},
   "outputs": [],
   "source": [
    "import numpy as np\n",
    "import matplotlib.pyplot as plt\n",
    "from ocelot.model.binaries import moe_distefano_17"
   ]
  },
  {
   "cell_type": "code",
   "execution_count": 2,
   "metadata": {},
   "outputs": [],
   "source": [
    "masses, periods = moe_distefano_17.mass, moe_distefano_17.mass_ratio_periods"
   ]
  },
  {
   "cell_type": "code",
   "execution_count": 3,
   "metadata": {},
   "outputs": [
    {
     "data": {
      "text/plain": [
       "array([[ 0.1,  0.3,  1. ,  3.5,  7. , 12.5, 16. ],\n",
       "       [ 2. ,  2. ,  2. ,  2. ,  2. ,  2. ,  2. ]])"
      ]
     },
     "execution_count": 3,
     "metadata": {},
     "output_type": "execute_result"
    }
   ],
   "source": [
    "np.vstack((masses, np.full_like(masses, 2.)))"
   ]
  },
  {
   "cell_type": "code",
   "execution_count": 16,
   "metadata": {},
   "outputs": [
    {
     "data": {
      "text/plain": [
       "(array([0.1, 0.1, 0.1, 0.3, 0.6, 0.7, 0.7]),\n",
       " array([0.92631937, 0.92631937, 0.92631937, 0.92631937, 0.92631937,\n",
       "        0.92631937, 0.92631937]))"
      ]
     },
     "execution_count": 16,
     "metadata": {},
     "output_type": "execute_result"
    }
   ],
   "source": [
    "moe_distefano_17._get_eccentricity_parameters(masses, np.full_like(masses, 2))"
   ]
  },
  {
   "cell_type": "code",
   "execution_count": 33,
   "metadata": {},
   "outputs": [
    {
     "data": {
      "text/plain": [
       "(array([-1.1, -1.1, -1.1, -2. , -2. , -2. , -2. ]),\n",
       " array([ 0.3,  0.3,  0.3, -1. , -1.5, -1.5, -1.5]),\n",
       " array([0.015, 0.015, 0.015, 0.   , 0.   , 0.   , 0.   ]))"
      ]
     },
     "execution_count": 33,
     "metadata": {},
     "output_type": "execute_result"
    }
   ],
   "source": [
    "moe_distefano_17._get_mass_ratio_distribution_parameters(masses, np.full_like(masses, 8))"
   ]
  }
 ],
 "metadata": {
  "kernelspec": {
   "display_name": ".venv",
   "language": "python",
   "name": "python3"
  },
  "language_info": {
   "codemirror_mode": {
    "name": "ipython",
    "version": 3
   },
   "file_extension": ".py",
   "mimetype": "text/x-python",
   "name": "python",
   "nbconvert_exporter": "python",
   "pygments_lexer": "ipython3",
   "version": "3.12.7"
  }
 },
 "nbformat": 4,
 "nbformat_minor": 2
}
